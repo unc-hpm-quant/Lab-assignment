{
  "nbformat": 4,
  "nbformat_minor": 0,
  "metadata": {
    "colab": {
      "provenance": [],
      "authorship_tag": "ABX9TyMoPvnug9wYwWqY88OboakP",
      "include_colab_link": true
    },
    "kernelspec": {
      "name": "ir",
      "display_name": "R"
    },
    "language_info": {
      "name": "R"
    }
  },
  "cells": [
    {
      "cell_type": "markdown",
      "metadata": {
        "id": "view-in-github",
        "colab_type": "text"
      },
      "source": [
        "<a href=\"https://colab.research.google.com/github/Shuyi-Song/HPM881-Lab-rstudio/blob/main/Copy_of_Lecture5.ipynb\" target=\"_parent\"><img src=\"https://colab.research.google.com/assets/colab-badge.svg\" alt=\"Open In Colab\"/></a>"
      ]
    },
    {
      "cell_type": "markdown",
      "source": [
        "\n",
        "# This file is the lab for HPM 881 Unit 5 -- Interpretation\n",
        "# Interpretation of racial categories using 3 different approaches:\n",
        "## 1) unadjusted\n",
        "## 2) residual direct effect\n",
        "## 3) IOM approach\n",
        "## Created: Dec. 1, 2020\n",
        "## Read in the data"
      ],
      "metadata": {
        "id": "3Ynph6ijHakQ"
      }
    },
    {
      "cell_type": "code",
      "source": [
        "# Read in the data\n",
        "library(haven)\n",
        "lab5 <-read_dta('/content/lecture5_lab.dta')\n"
      ],
      "metadata": {
        "id": "R7eAx0TrHjRI"
      },
      "execution_count": null,
      "outputs": []
    },
    {
      "cell_type": "markdown",
      "source": [
        "# 1. Get to know your data\n",
        "\n",
        "Drop observations with <=0 years of education and with missing/invalid responses to RTHLTH53."
      ],
      "metadata": {
        "id": "jDB1_OGBH8S5"
      }
    },
    {
      "cell_type": "code",
      "source": [
        "data <- subset(lab5 , EDUCYR > 0 & RTHLTH53 > 0)"
      ],
      "metadata": {
        "id": "nLgFfBDDH9pL"
      },
      "execution_count": null,
      "outputs": []
    },
    {
      "cell_type": "markdown",
      "source": [
        "\n",
        "Describe the variables of interest\n"
      ],
      "metadata": {
        "id": "yYDTmI1eIVuu"
      }
    },
    {
      "cell_type": "code",
      "source": [
        "summary(data[c(\"DVTEXP18\", \"RACEV1X\", \"AGELAST\", \"SEX\", \"INSCOV18\", \"EDUCYR\", \"RTHLTH53\")])\n"
      ],
      "metadata": {
        "id": "pcNffXeeR_AA",
        "outputId": "a91950a0-4bf1-44e9-c364-e7999e817ac6",
        "colab": {
          "base_uri": "https://localhost:8080/",
          "height": 267
        }
      },
      "execution_count": null,
      "outputs": [
        {
          "output_type": "display_data",
          "data": {
            "text/plain": [
              "    DVTEXP18          RACEV1X         AGELAST           SEX       \n",
              " Min.   :    0.0   Min.   :1.000   Min.   : 5.00   Min.   :1.000  \n",
              " 1st Qu.:    0.0   1st Qu.:1.000   1st Qu.:25.00   1st Qu.:1.000  \n",
              " Median :    0.0   Median :1.000   Median :43.00   Median :2.000  \n",
              " Mean   :  388.6   Mean   :1.522   Mean   :43.26   Mean   :1.526  \n",
              " 3rd Qu.:  253.0   3rd Qu.:2.000   3rd Qu.:61.00   3rd Qu.:2.000  \n",
              " Max.   :81000.0   Max.   :6.000   Max.   :85.00   Max.   :2.000  \n",
              "    INSCOV18         EDUCYR         RTHLTH53    \n",
              " Min.   :1.000   Min.   : 1.00   Min.   :1.000  \n",
              " 1st Qu.:1.000   1st Qu.:11.00   1st Qu.:1.000  \n",
              " Median :1.000   Median :12.00   Median :2.000  \n",
              " Mean   :1.466   Mean   :11.95   Mean   :2.308  \n",
              " 3rd Qu.:2.000   3rd Qu.:15.00   3rd Qu.:3.000  \n",
              " Max.   :3.000   Max.   :17.00   Max.   :5.000  "
            ]
          },
          "metadata": {}
        }
      ]
    },
    {
      "cell_type": "markdown",
      "source": [
        "Save the cleaned data"
      ],
      "metadata": {
        "id": "JXVfYlEWSRRp"
      }
    },
    {
      "cell_type": "code",
      "source": [
        "saveRDS(data, \"lecture5_lab.rds\")\n",
        "\n"
      ],
      "metadata": {
        "id": "1cNabELvSRdO"
      },
      "execution_count": null,
      "outputs": []
    },
    {
      "cell_type": "markdown",
      "source": [
        "# 2. Summarize dental expenditures by race categories in RACEV1X.\n",
        "Using dplyr package\n"
      ],
      "metadata": {
        "id": "aEGviU_aSR7G"
      }
    },
    {
      "cell_type": "code",
      "source": [
        "library(dplyr)\n",
        "\n",
        "data %>%\n",
        "  group_by(RACEV1X) %>%\n",
        "  summarise(mean_DVTEXP18 = mean(DVTEXP18, na.rm = TRUE))\n"
      ],
      "metadata": {
        "id": "jwn7Ai5KSSE7",
        "outputId": "e749cd37-b01a-4685-ba95-d914f4604291",
        "colab": {
          "base_uri": "https://localhost:8080/",
          "height": 505
        }
      },
      "execution_count": null,
      "outputs": [
        {
          "output_type": "stream",
          "name": "stderr",
          "text": [
            "\n",
            "Attaching package: ‘dplyr’\n",
            "\n",
            "\n",
            "The following objects are masked from ‘package:stats’:\n",
            "\n",
            "    filter, lag\n",
            "\n",
            "\n",
            "The following objects are masked from ‘package:base’:\n",
            "\n",
            "    intersect, setdiff, setequal, union\n",
            "\n",
            "\n"
          ]
        },
        {
          "output_type": "display_data",
          "data": {
            "text/html": [
              "<table class=\"dataframe\">\n",
              "<caption>A tibble: 5 × 2</caption>\n",
              "<thead>\n",
              "\t<tr><th scope=col>RACEV1X</th><th scope=col>mean_DVTEXP18</th></tr>\n",
              "\t<tr><th scope=col>&lt;dbl+lbl&gt;</th><th scope=col>&lt;dbl&gt;</th></tr>\n",
              "</thead>\n",
              "<tbody>\n",
              "\t<tr><td>1</td><td>414.4850</td></tr>\n",
              "\t<tr><td>2</td><td>265.4115</td></tr>\n",
              "\t<tr><td>3</td><td>320.4954</td></tr>\n",
              "\t<tr><td>4</td><td>415.3884</td></tr>\n",
              "\t<tr><td>6</td><td>361.6175</td></tr>\n",
              "</tbody>\n",
              "</table>\n"
            ],
            "text/markdown": "\nA tibble: 5 × 2\n\n| RACEV1X &lt;dbl+lbl&gt; | mean_DVTEXP18 &lt;dbl&gt; |\n|---|---|\n| 1 | 414.4850 |\n| 2 | 265.4115 |\n| 3 | 320.4954 |\n| 4 | 415.3884 |\n| 6 | 361.6175 |\n\n",
            "text/latex": "A tibble: 5 × 2\n\\begin{tabular}{ll}\n RACEV1X & mean\\_DVTEXP18\\\\\n <dbl+lbl> & <dbl>\\\\\n\\hline\n\t 1 & 414.4850\\\\\n\t 2 & 265.4115\\\\\n\t 3 & 320.4954\\\\\n\t 4 & 415.3884\\\\\n\t 6 & 361.6175\\\\\n\\end{tabular}\n",
            "text/plain": [
              "  RACEV1X mean_DVTEXP18\n",
              "1 1       414.4850     \n",
              "2 2       265.4115     \n",
              "3 3       320.4954     \n",
              "4 4       415.3884     \n",
              "5 6       361.6175     "
            ]
          },
          "metadata": {}
        }
      ]
    },
    {
      "cell_type": "markdown",
      "source": [
        "# 3. Create a bar graph showing the ratio of mean dental expenditures for each race category in RACEV1X relative to White.\n",
        " For example, if mean dental expenditures for White people = $150 and mean dental expenditures for Black people = $100,\n",
        "the Black/White ratio would = 0.67.\n",
        "\n",
        "Using ggplot2 package"
      ],
      "metadata": {
        "id": "F0X3Y0_wSSNj"
      }
    },
    {
      "cell_type": "code",
      "source": [
        "library(ggplot2)\n",
        "\n",
        "data %>%\n",
        "  group_by(RACEV1X) %>%\n",
        "  summarise(mean_DVTEXP18 = mean(DVTEXP18, na.rm = TRUE)) %>%\n",
        "  mutate(dvt_ratio = mean_DVTEXP18 / mean_DVTEXP18[RACEV1X == 1]) %>%\n",
        "  ggplot(aes(x = factor(RACEV1X), y = dvt_ratio)) +\n",
        "  geom_bar(stat = \"identity\") +\n",
        "  labs(title = \"Ratio of Dental Expenditures to White Race\") +\n",
        "  scale_x_discrete(labels = c(\"White\", \"Black\", \"AI/AN\", \"Asian/NH/PI\", \"Multiple\"))\n"
      ],
      "metadata": {
        "id": "MZkL5oVKSSWN",
        "outputId": "c2331bd7-5222-4a7e-e09a-cd0239917f4b",
        "colab": {
          "base_uri": "https://localhost:8080/",
          "height": 437
        }
      },
      "execution_count": null,
      "outputs": [
        {
          "output_type": "display_data",
          "data": {
            "text/plain": [
              "plot without title"
            ],
            "image/png": "[encoded data removed]"
          },
          "metadata": {
            "image/png": {
              "width": 420,
              "height": 420
            }
          }
        }
      ]
    },
    {
      "cell_type": "markdown",
      "source": [
        "# 4. Unadjusted means approach: Using t-tests, test for differences in mean dental expenditures between each race category in RACEV1X and White.\n",
        "\n",
        "Loop over values of RACEV1X"
      ],
      "metadata": {
        "id": "JOVvDB36SSdh"
      }
    },
    {
      "cell_type": "code",
      "source": [
        "race_categories <- c(2, 3, 4, 6)\n",
        "\n",
        "for (i in race_categories) {\n",
        "  cat(\"T-test for race category\", i, \"vs White:\\n\")\n",
        "  t_test_result <- t.test(DVTEXP18 ~ factor(RACEV1X), data = data, subset = RACEV1X %in% c(1, i))\n",
        "  print(t_test_result)\n",
        "}"
      ],
      "metadata": {
        "id": "3RngxrXUSSnw",
        "outputId": "7c19a331-9053-4258-e2ee-e8b8b20e2778",
        "colab": {
          "base_uri": "https://localhost:8080/"
        }
      },
      "execution_count": null,
      "outputs": [
        {
          "output_type": "stream",
          "name": "stdout",
          "text": [
            "T-test for race category 2 vs White:\n",
            "\n",
            "\tWelch Two Sample t-test\n",
            "\n",
            "data:  DVTEXP18 by factor(RACEV1X)\n",
            "t = 8.1049, df = 7964.9, p-value = 6.063e-16\n",
            "alternative hypothesis: true difference in means between group 1 and group 2 is not equal to 0\n",
            "95 percent confidence interval:\n",
            " 113.0186 185.1284\n",
            "sample estimates:\n",
            "mean in group 1 mean in group 2 \n",
            "       414.4850        265.4115 \n",
            "\n",
            "T-test for race category 3 vs White:\n",
            "\n",
            "\tWelch Two Sample t-test\n",
            "\n",
            "data:  DVTEXP18 by factor(RACEV1X)\n",
            "t = 1.1434, df = 223.49, p-value = 0.2541\n",
            "alternative hypothesis: true difference in means between group 1 and group 3 is not equal to 0\n",
            "95 percent confidence interval:\n",
            " -67.99809 255.97722\n",
            "sample estimates:\n",
            "mean in group 1 mean in group 3 \n",
            "       414.4850        320.4954 \n",
            "\n",
            "T-test for race category 4 vs White:\n",
            "\n",
            "\tWelch Two Sample t-test\n",
            "\n",
            "data:  DVTEXP18 by factor(RACEV1X)\n",
            "t = -0.024499, df = 1743.6, p-value = 0.9805\n",
            "alternative hypothesis: true difference in means between group 1 and group 4 is not equal to 0\n",
            "95 percent confidence interval:\n",
            " -73.23058  71.42372\n",
            "sample estimates:\n",
            "mean in group 1 mean in group 4 \n",
            "       414.4850        415.3884 \n",
            "\n",
            "T-test for race category 6 vs White:\n",
            "\n",
            "\tWelch Two Sample t-test\n",
            "\n",
            "data:  DVTEXP18 by factor(RACEV1X)\n",
            "t = 1.1691, df = 1046.6, p-value = 0.2426\n",
            "alternative hypothesis: true difference in means between group 1 and group 6 is not equal to 0\n",
            "95 percent confidence interval:\n",
            " -35.86926 141.60423\n",
            "sample estimates:\n",
            "mean in group 1 mean in group 6 \n",
            "       414.4850        361.6175 \n",
            "\n"
          ]
        }
      ]
    },
    {
      "cell_type": "markdown",
      "source": [
        "\n",
        "# 5. Residual direct effect: Regression DVTEXP18 on RACEV1X, AGELAST, EDUCYR, SEX, INSCOV, and RTHLTH53 using White as the reference category.\n",
        "Interpret any statistically significant differences in the RACEV1X categories. Be precise in your language.\n",
        "\n",
        "Using lm function\n",
        "\n"
      ],
      "metadata": {
        "id": "q0RhkvZASSvT"
      }
    },
    {
      "cell_type": "code",
      "source": [
        "model <- lm(DVTEXP18 ~ factor(RACEV1X) + AGELAST + EDUCYR + factor(SEX) + factor(INSCOV18) + RTHLTH53, data = data)\n",
        "summary(model)"
      ],
      "metadata": {
        "id": "RB6U4qCvSS3K",
        "outputId": "e247d084-2b2b-43fa-991c-ad51cec145be",
        "colab": {
          "base_uri": "https://localhost:8080/",
          "height": 517
        }
      },
      "execution_count": null,
      "outputs": [
        {
          "output_type": "display_data",
          "data": {
            "text/plain": [
              "\n",
              "Call:\n",
              "lm(formula = DVTEXP18 ~ factor(RACEV1X) + AGELAST + EDUCYR + \n",
              "    factor(SEX) + factor(INSCOV18) + RTHLTH53, data = data)\n",
              "\n",
              "Residuals:\n",
              "   Min     1Q Median     3Q    Max \n",
              "  -719   -426   -274    -95  80519 \n",
              "\n",
              "Coefficients:\n",
              "                   Estimate Std. Error t value Pr(>|t|)    \n",
              "(Intercept)        442.9994    33.4121  13.259  < 2e-16 ***\n",
              "factor(RACEV1X)2  -120.9406    22.8718  -5.288 1.25e-07 ***\n",
              "factor(RACEV1X)3   -28.8140    90.5952  -0.318 0.750448    \n",
              "factor(RACEV1X)4    -5.8049    35.6765  -0.163 0.870748    \n",
              "factor(RACEV1X)6   -15.1150    44.3784  -0.341 0.733412    \n",
              "AGELAST              3.2738     0.4558   7.183 6.99e-13 ***\n",
              "EDUCYR              -3.0573     2.4142  -1.266 0.205381    \n",
              "factor(SEX)2        54.7538    16.4320   3.332 0.000863 ***\n",
              "factor(INSCOV18)2 -196.7244    19.4605 -10.109  < 2e-16 ***\n",
              "factor(INSCOV18)3 -347.5891    30.8311 -11.274  < 2e-16 ***\n",
              "RTHLTH53           -34.7775     8.3056  -4.187 2.83e-05 ***\n",
              "---\n",
              "Signif. codes:  0 ‘***’ 0.001 ‘**’ 0.01 ‘*’ 0.05 ‘.’ 0.1 ‘ ’ 1\n",
              "\n",
              "Residual standard error: 1329 on 26460 degrees of freedom\n",
              "Multiple R-squared:  0.01245,\tAdjusted R-squared:  0.01208 \n",
              "F-statistic: 33.36 on 10 and 26460 DF,  p-value: < 2.2e-16\n"
            ]
          },
          "metadata": {}
        }
      ]
    },
    {
      "cell_type": "markdown",
      "source": [
        "\n",
        "# 6. IOM approach: Which variables would you include in the “Clinical Appropriateness and Need” category?\n",
        "Which variables would you include in the “Operation of health care systems and legal and regulatory environment” category?\n",
        "*NOTE: We do not have measures of patient preferences.\n"
      ],
      "metadata": {
        "id": "opbexvdyTvz8"
      }
    },
    {
      "cell_type": "code",
      "source": [
        "\n",
        "clinical_vars <- c(\"AGELAST\", \"SEX\", \"RTHLTH53\")\n",
        "operation_vars <- c(\"EDUCYR\", \"INSCOV\")\n"
      ],
      "metadata": {
        "id": "7KxoTTwdUFkD"
      },
      "execution_count": null,
      "outputs": []
    },
    {
      "cell_type": "markdown",
      "source": [
        "Clinical appropriateness and need: AGELAST SEX RTHLTH53 Operation: EDUCYR INSCOV18\n"
      ],
      "metadata": {
        "id": "5P_CiRhyULJM"
      }
    },
    {
      "cell_type": "code",
      "source": [
        "\n",
        "clinical_vars <- c(\"AGELAST\", \"SEX\", \"RTHLTH53\")\n",
        "operation_vars <- c(\"EDUCYR\", \"INSCOV18\")"
      ],
      "metadata": {
        "id": "lS1UE5c8UPUa"
      },
      "execution_count": null,
      "outputs": []
    },
    {
      "cell_type": "markdown",
      "source": [
        "\n",
        "# 7. Generate predicted dental expenditures for the average White person.\n",
        "\n",
        "white_mean <- subset(data, RACEV1X == 1) %>%\n",
        "  summarise_all(mean, na.rm = TRUE)\n",
        "\n",
        "white_pred <- predict(model, newdata = white_mean)\n",
        "\n",
        "# 8. For each other race category in RACEV1X, generate predicted dental expenditures for the average person but use the White\n",
        "# averages for Clinical Appropriateness and Need variables for every racial group.\n",
        "\n",
        "predictions <- data %>%\n",
        "  group_by(RACEV1X) %>%\n",
        "  mutate_at(vars(clinical_vars), ~ white_mean[[.]]) %>%\n",
        "  summarise(pred_DVTEXP18 = mean(predict(model, newdata = .), na.rm = TRUE))\n",
        "\n",
        "# 9. Compare differences in predictions between race categories and White using the IOM approach vs the residual direct effect approach.\n",
        "# Which approach generates larger disparities? For which racial groups?\n",
        "\n",
        "# Residual direct effect\n",
        "coef(model)[2]  # Coefficient for factor(RACEV1X) Black\n",
        "\n",
        "# IOM approach\n",
        "diff_iom <- white_mean[[\"RACEV1X\"]] - predictions$pred_DVTEXP18[2]\n",
        "diff_iom\n"
      ],
      "metadata": {
        "id": "vtBgVcfGUOp4"
      }
    }
  ]
}
